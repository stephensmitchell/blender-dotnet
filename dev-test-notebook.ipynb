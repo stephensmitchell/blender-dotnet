{
 "cells": [
  {
   "cell_type": "code",
   "execution_count": 3,
   "id": "ceb67e50-cd93-4302-aaaa-d6d09a9e084e",
   "metadata": {},
   "outputs": [
    {
     "name": "stdout",
     "output_type": "stream",
     "text": [
      "3.11.9 (tags/v3.11.9:de54cf5, Apr  2 2024, 10:12:12) [MSC v.1938 64 bit (AMD64)]\n",
      "(4, 1, 0)\n"
     ]
    }
   ],
   "source": [
    "import sys,os,clr,bpy\n",
    "import bpy\n",
    "from bpy import *\n",
    "print(sys.version)\n",
    "print(bpy.app.version)"
   ]
  },
  {
   "cell_type": "code",
   "execution_count": 2,
   "id": "8b488843-d49d-49dc-8f7b-59c70efb1b82",
   "metadata": {},
   "outputs": [
    {
     "data": {
      "text/plain": [
       "(4, 1, 0)"
      ]
     },
     "execution_count": 2,
     "metadata": {},
     "output_type": "execute_result"
    }
   ],
   "source": [
    "bpy.app.version"
   ]
  },
  {
   "cell_type": "markdown",
   "id": "2ec35caa",
   "metadata": {},
   "source": [
    "# This is working great!"
   ]
  }
 ],
 "metadata": {
  "kernelspec": {
   "display_name": "Python 3 (ipykernel)",
   "language": "python",
   "name": "python3"
  },
  "language_info": {
   "codemirror_mode": {
    "name": "ipython",
    "version": 3
   },
   "file_extension": ".py",
   "mimetype": "text/x-python",
   "name": "python",
   "nbconvert_exporter": "python",
   "pygments_lexer": "ipython3",
   "version": "3.11.9"
  }
 },
 "nbformat": 4,
 "nbformat_minor": 5
}

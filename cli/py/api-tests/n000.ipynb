{
 "cells": [
  {
   "cell_type": "code",
   "execution_count": null,
   "id": "93def8fb-d9e6-4308-a0b1-6755d4c64b20",
   "metadata": {},
   "outputs": [
    {
     "name": "stdout",
     "output_type": "stream",
     "text": [
      "Info: Saved \"output4.blend\"\n"
     ]
    },
    {
     "data": {
      "text/plain": [
       "{'FINISHED'}"
      ]
     },
     "execution_count": 1,
     "metadata": {},
     "output_type": "execute_result"
    }
   ],
   "source": [
    "import bpy\n",
    "import os\n",
    "# Clear existing scene data\n",
    "bpy.ops.wm.read_factory_settings(use_empty=True)\n",
    "# Add a new cube to the scene\n",
    "bpy.ops.mesh.primitive_cube_add(location=(0, 0, 10))\n",
    "# Get the reference to the newly added cube object\n",
    "cube = bpy.context.active_object\n",
    "# Change the scale dimensions of the cube\n",
    "cube.dimensions = (20, 10, 3)   # Change the scale to (x=2, y=3, z=1) dimensions\n",
    "bpy.ops.object.transform_apply(location=True, rotation=True, scale=True)\n",
    "# Get the directory of the script file\n",
    "script_dir = os.path.dirname(os.path.realpath(__file__))\n",
    "# Save the blend file in the same directory as the script\n",
    "blend_file_path = os.path.join(script_dir, \"output4.blend\")\n",
    "bpy.ops.wm.save_as_mainfile(filepath=blend_file_path)"
   ]
  },
  {
   "cell_type": "code",
   "execution_count": null,
   "metadata": {},
   "outputs": [
    {
     "data": {
      "text/plain": [
       "(4, 1, 0)"
      ]
     },
     "execution_count": 2,
     "metadata": {},
     "output_type": "execute_result"
    }
   ],
   "source": [
    "bpy.app.version"
   ]
  }
 ],
 "metadata": {
  "language_info": {
   "codemirror_mode": {
    "name": "ipython",
    "version": 3
   },
   "file_extension": ".py",
   "mimetype": "text/x-python",
   "name": "python",
   "nbconvert_exporter": "python",
   "pygments_lexer": "ipython3",
   "version": 3
  }
 },
 "nbformat": 4,
 "nbformat_minor": 2
}
